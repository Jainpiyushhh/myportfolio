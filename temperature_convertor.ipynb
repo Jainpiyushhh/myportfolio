{
  "nbformat": 4,
  "nbformat_minor": 0,
  "metadata": {
    "colab": {
      "provenance": [],
      "authorship_tag": "ABX9TyN6Hmz/kW1IyAezjSOWqeM1",
      "include_colab_link": true
    },
    "kernelspec": {
      "name": "python3",
      "display_name": "Python 3"
    },
    "language_info": {
      "name": "python"
    }
  },
  "cells": [
    {
      "cell_type": "markdown",
      "metadata": {
        "id": "view-in-github",
        "colab_type": "text"
      },
      "source": [
        "<a href=\"https://colab.research.google.com/github/Jainpiyushhh/myportfolio/blob/main/temperature_convertor.ipynb\" target=\"_parent\"><img src=\"https://colab.research.google.com/assets/colab-badge.svg\" alt=\"Open In Colab\"/></a>"
      ]
    },
    {
      "cell_type": "code",
      "execution_count": null,
      "metadata": {
        "id": "hGOSxGZOEhAc"
      },
      "outputs": [],
      "source": []
    },
    {
      "cell_type": "markdown",
      "source": [
        "## **Temperature convertor celsius to fahrenheit**"
      ],
      "metadata": {
        "id": "SCGCevTtEu26"
      }
    },
    {
      "cell_type": "code",
      "source": [
        "celsius=(int(input(\"Enter the value of celsius: \")))\n",
        "print(\"Convert value of celsius to fahrenheit: \",celsius*9/5+32)\n"
      ],
      "metadata": {
        "colab": {
          "base_uri": "https://localhost:8080/"
        },
        "id": "NBBR3DhzFLDn",
        "outputId": "118d1597-f194-4e38-bdeb-e5f5deef7d44"
      },
      "execution_count": 2,
      "outputs": [
        {
          "output_type": "stream",
          "name": "stdout",
          "text": [
            "Enter the value of celsius: 0\n",
            "Convert value of celsius to fahrenheit:  32.0\n"
          ]
        }
      ]
    },
    {
      "cell_type": "code",
      "source": [],
      "metadata": {
        "id": "hJWShu97FBb_"
      },
      "execution_count": null,
      "outputs": []
    },
    {
      "cell_type": "markdown",
      "source": [],
      "metadata": {
        "id": "qDggzDcMFCJG"
      }
    }
  ]
}