{
  "nbformat": 4,
  "nbformat_minor": 0,
  "metadata": {
    "colab": {
      "provenance": [],
      "authorship_tag": "ABX9TyNxymn7WepRzlXzSSXqNs2s",
      "include_colab_link": true
    },
    "kernelspec": {
      "name": "python3",
      "display_name": "Python 3"
    },
    "language_info": {
      "name": "python"
    }
  },
  "cells": [
    {
      "cell_type": "markdown",
      "metadata": {
        "id": "view-in-github",
        "colab_type": "text"
      },
      "source": [
        "<a href=\"https://colab.research.google.com/github/Jainpiyushhh/myportfolio/blob/main/swap_number.ipynb\" target=\"_parent\"><img src=\"https://colab.research.google.com/assets/colab-badge.svg\" alt=\"Open In Colab\"/></a>"
      ]
    },
    {
      "cell_type": "code",
      "execution_count": null,
      "metadata": {
        "id": "5Dff8FxzGOdd"
      },
      "outputs": [],
      "source": []
    },
    {
      "cell_type": "markdown",
      "source": [
        "# ***Swapping two number***"
      ],
      "metadata": {
        "id": "TH-VXwZQGYcb"
      }
    },
    {
      "cell_type": "code",
      "source": [
        "num1=int(input(\"Enter the first value: \"))\n",
        "num2=int(input(\"Enter the  second value \"))\n",
        "num1=num1+num2\n",
        "num2=num1-num2\n",
        "num1=num1-num2\n",
        "print(\"swapping number is :\",num1,\" , \",num2)\n"
      ],
      "metadata": {
        "colab": {
          "base_uri": "https://localhost:8080/"
        },
        "id": "T32temnEGfZA",
        "outputId": "3ba8c058-9157-4e09-ef67-84d0f5bdf400"
      },
      "execution_count": 4,
      "outputs": [
        {
          "output_type": "stream",
          "name": "stdout",
          "text": [
            "Enter the first value: 4\n",
            "Enter the  second value 6\n",
            "swapping number is : 6  ,  4\n"
          ]
        }
      ]
    }
  ]
}