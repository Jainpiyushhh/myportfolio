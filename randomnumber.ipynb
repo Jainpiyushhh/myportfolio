{
  "nbformat": 4,
  "nbformat_minor": 0,
  "metadata": {
    "colab": {
      "provenance": [],
      "authorship_tag": "ABX9TyOQh38MyT6zG2vEOLwCUsoN",
      "include_colab_link": true
    },
    "kernelspec": {
      "name": "python3",
      "display_name": "Python 3"
    },
    "language_info": {
      "name": "python"
    }
  },
  "cells": [
    {
      "cell_type": "markdown",
      "metadata": {
        "id": "view-in-github",
        "colab_type": "text"
      },
      "source": [
        "<a href=\"https://colab.research.google.com/github/Jainpiyushhh/myportfolio/blob/main/Untitled0.ipynb\" target=\"_parent\"><img src=\"https://colab.research.google.com/assets/colab-badge.svg\" alt=\"Open In Colab\"/></a>"
      ]
    },
    {
      "cell_type": "code",
      "execution_count": null,
      "metadata": {
        "id": "Jztkp6BSHBMd"
      },
      "outputs": [],
      "source": []
    },
    {
      "cell_type": "markdown",
      "source": [
        "# ***Generate random integer number***"
      ],
      "metadata": {
        "id": "RF2cOK1aHGHs"
      }
    },
    {
      "cell_type": "code",
      "source": [
        "import random as r\n",
        "\n",
        "print(r.random())\n",
        "\n",
        "# its show the random number in range\n",
        "print(r.randint(1,100))\n",
        "print(r.randint(1,100))\n",
        "print(r.randint(-10,10))\n",
        "print(r.randint(-10,10))\n",
        "\n"
      ],
      "metadata": {
        "colab": {
          "base_uri": "https://localhost:8080/"
        },
        "id": "nnadbfI8HTlM",
        "outputId": "1fdb854f-fb3c-4e34-b9be-d59a1c2c79c8"
      },
      "execution_count": 2,
      "outputs": [
        {
          "output_type": "stream",
          "name": "stdout",
          "text": [
            "0.19898410617277384\n",
            "20\n",
            "43\n",
            "-7\n",
            "5\n"
          ]
        }
      ]
    }
  ]
}
