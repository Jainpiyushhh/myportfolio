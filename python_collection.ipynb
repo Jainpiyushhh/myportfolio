{
  "nbformat": 4,
  "nbformat_minor": 0,
  "metadata": {
    "colab": {
      "provenance": [],
      "authorship_tag": "ABX9TyNZYEL5EpdpY0IJzcbhkuCa",
      "include_colab_link": true
    },
    "kernelspec": {
      "name": "python3",
      "display_name": "Python 3"
    },
    "language_info": {
      "name": "python"
    }
  },
  "cells": [
    {
      "cell_type": "markdown",
      "metadata": {
        "id": "view-in-github",
        "colab_type": "text"
      },
      "source": [
        "<a href=\"https://colab.research.google.com/github/Jainpiyushhh/myportfolio/blob/main/python_collection.ipynb\" target=\"_parent\"><img src=\"https://colab.research.google.com/assets/colab-badge.svg\" alt=\"Open In Colab\"/></a>"
      ]
    },
    {
      "cell_type": "code",
      "execution_count": null,
      "metadata": {
        "id": "DXxpGIg9iw9F"
      },
      "outputs": [],
      "source": []
    },
    {
      "cell_type": "code",
      "source": [],
      "metadata": {
        "id": "-GEpT435iyhb"
      },
      "execution_count": 4,
      "outputs": []
    },
    {
      "cell_type": "markdown",
      "source": [
        "# ***Python Collection***"
      ],
      "metadata": {
        "id": "8N9h8L6sjr4s"
      }
    },
    {
      "cell_type": "code",
      "source": [
        "L=[\"piyush\",'jain',3.14,3]\n",
        "print(\"orignal list: \",L)\n",
        "print(\"Number of element in list :\",len(L))\n",
        "\n",
        "#by using while loop\n",
        "\n",
        "print(\"orignal length :\",L)\n",
        "i=0\n",
        "while i<len(L):\n",
        " print(L[i])\n",
        " i+=1\n",
        " # by using for loop\n",
        "\n",
        "\n"
      ],
      "metadata": {
        "colab": {
          "base_uri": "https://localhost:8080/"
        },
        "id": "H0YaalEXjw4R",
        "outputId": "47480436-086d-4467-91f2-9e041677a638"
      },
      "execution_count": 12,
      "outputs": [
        {
          "output_type": "stream",
          "name": "stdout",
          "text": [
            "orignal list:  ['piyush', 'jain', 3.14, 3]\n",
            "Number of element in list : 4\n",
            "orignal length : ['piyush', 'jain', 3.14, 3]\n",
            "piyush\n",
            "jain\n",
            "3.14\n",
            "3\n"
          ]
        }
      ]
    }
  ]
}