{
  "nbformat": 4,
  "nbformat_minor": 0,
  "metadata": {
    "colab": {
      "provenance": [],
      "authorship_tag": "ABX9TyPuyTHzigdVk11+2mXyLFrq",
      "include_colab_link": true
    },
    "kernelspec": {
      "name": "python3",
      "display_name": "Python 3"
    },
    "language_info": {
      "name": "python"
    }
  },
  "cells": [
    {
      "cell_type": "markdown",
      "metadata": {
        "id": "view-in-github",
        "colab_type": "text"
      },
      "source": [
        "<a href=\"https://colab.research.google.com/github/Jainpiyushhh/myportfolio/blob/main/cal_rectangle_length.ipynb\" target=\"_parent\"><img src=\"https://colab.research.google.com/assets/colab-badge.svg\" alt=\"Open In Colab\"/></a>"
      ]
    },
    {
      "cell_type": "code",
      "execution_count": null,
      "metadata": {
        "id": "7ED94l4XCtfk"
      },
      "outputs": [],
      "source": []
    },
    {
      "cell_type": "markdown",
      "source": [
        "# ***Calculate the area rectangle***"
      ],
      "metadata": {
        "id": "iQ6fS85mC0kO"
      }
    },
    {
      "cell_type": "code",
      "source": [
        "length=(int(input(\"Enter the value of a: \")))\n",
        "breadth=(int(input(\"Enter the value of b: \")))\n",
        "print(\"Area of rectangle :\",length*breadth)\n",
        "\n"
      ],
      "metadata": {
        "colab": {
          "base_uri": "https://localhost:8080/"
        },
        "id": "ZNeLYO8KDAja",
        "outputId": "cbb182e3-ca32-4a40-b9f7-5cd60c4d2a3a"
      },
      "execution_count": 5,
      "outputs": [
        {
          "output_type": "stream",
          "name": "stdout",
          "text": [
            "Enter the value of a: 4\n",
            "Enter the value of b: 4\n",
            "Area of rectangle : 16\n"
          ]
        }
      ]
    }
  ]
}