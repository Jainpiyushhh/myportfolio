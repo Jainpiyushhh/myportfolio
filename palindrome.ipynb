{
  "nbformat": 4,
  "nbformat_minor": 0,
  "metadata": {
    "colab": {
      "provenance": [],
      "authorship_tag": "ABX9TyM2eYj7TRQBQu0pIYR+8ZDP",
      "include_colab_link": true
    },
    "kernelspec": {
      "name": "python3",
      "display_name": "Python 3"
    },
    "language_info": {
      "name": "python"
    }
  },
  "cells": [
    {
      "cell_type": "markdown",
      "metadata": {
        "id": "view-in-github",
        "colab_type": "text"
      },
      "source": [
        "<a href=\"https://colab.research.google.com/github/Jainpiyushhh/myportfolio/blob/main/palindrome.ipynb\" target=\"_parent\"><img src=\"https://colab.research.google.com/assets/colab-badge.svg\" alt=\"Open In Colab\"/></a>"
      ]
    },
    {
      "cell_type": "code",
      "execution_count": null,
      "metadata": {
        "id": "JyHZ1xGREYge"
      },
      "outputs": [],
      "source": []
    },
    {
      "cell_type": "markdown",
      "source": [
        "# ***palindrome***"
      ],
      "metadata": {
        "id": "rDqyz8UXE9Jk"
      }
    },
    {
      "cell_type": "code",
      "source": [
        "s1=\"Indian Army\"\n",
        "s2=\"malayalam\"\n",
        "s3=\"madam\"\n",
        "s4=\"teacher\"\n",
        "print(s1[::-1],\"\\n\")\n",
        "print(s1)\n",
        "print(\"s1--->\",s1==s1[::-1])\n",
        "print(\"s2--->\",s2==s2[::-1])\n",
        "print(\"s3--->\",s3==s3[::-1])\n",
        "print(\"s4--->\",s4[::-3])"
      ],
      "metadata": {
        "colab": {
          "base_uri": "https://localhost:8080/"
        },
        "id": "33H4PGpPFRgQ",
        "outputId": "f61f5ced-384b-4ddc-85df-380778d27b90"
      },
      "execution_count": null,
      "outputs": [
        {
          "output_type": "stream",
          "name": "stdout",
          "text": [
            "ymrA naidnI \n",
            "\n",
            "Indian Army\n",
            "s1---> False\n",
            "s2---> True\n",
            "s3---> True\n",
            "s4---> False\n"
          ]
        }
      ]
    }
  ]
}
