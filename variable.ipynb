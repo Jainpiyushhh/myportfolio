{
  "nbformat": 4,
  "nbformat_minor": 0,
  "metadata": {
    "colab": {
      "provenance": [],
      "authorship_tag": "ABX9TyNYoc6eJ4WUZC07NlokQKmv",
      "include_colab_link": true
    },
    "kernelspec": {
      "name": "python3",
      "display_name": "Python 3"
    },
    "language_info": {
      "name": "python"
    }
  },
  "cells": [
    {
      "cell_type": "markdown",
      "metadata": {
        "id": "view-in-github",
        "colab_type": "text"
      },
      "source": [
        "<a href=\"https://colab.research.google.com/github/Jainpiyushhh/myportfolio/blob/main/Copy_of_variable.ipynb\" target=\"_parent\"><img src=\"https://colab.research.google.com/assets/colab-badge.svg\" alt=\"Open In Colab\"/></a>"
      ]
    },
    {
      "cell_type": "code",
      "execution_count": null,
      "metadata": {
        "id": "EcBsQPZeOL8e"
      },
      "outputs": [],
      "source": []
    },
    {
      "cell_type": "markdown",
      "source": [
        "# ***variable***"
      ],
      "metadata": {
        "id": "whli6GPoONE9"
      }
    },
    {
      "cell_type": "code",
      "source": [
        "var=\"Hello World\"\n",
        "print(\"var-->\",var)\n",
        "print(\"var[0]-->\",var[0])\n",
        "print(\"var[1:5}-->\",var[1:5])\n",
        "print(\"var[:-5]-->\",var[:-5])\n",
        "print(\"var[3:]-->\",var[3:])\n",
        "print(\"var[:-7]-->\",var[:-7])\n",
        "print(\"var[:-7]-->\",len(var[:-7]))\n",
        "\n"
      ],
      "metadata": {
        "colab": {
          "base_uri": "https://localhost:8080/"
        },
        "id": "ZrE0aJ5cOS-Q",
        "outputId": "1d1cf418-6727-48e0-edb5-b7b33c21deb7"
      },
      "execution_count": null,
      "outputs": [
        {
          "output_type": "stream",
          "name": "stdout",
          "text": [
            "var--> Hello World\n",
            "var[0]--> H\n",
            "var[1:5}--> ello\n",
            "var[:-5]--> Hello \n",
            "var[3:]--> lo World\n",
            "var[:-7]--> Hell\n",
            "var[:-7]--> 4\n"
          ]
        }
      ]
    }
  ]
}
